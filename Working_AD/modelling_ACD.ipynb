{
 "cells": [
  {
   "cell_type": "code",
   "execution_count": 2,
   "metadata": {},
   "outputs": [],
   "source": [
    "import pandas as pd \n",
    "import numpy as np \n",
    "import matplotlib.pyplot as plt\n",
    "import seaborn as sns\n",
    "\n",
    "from sklearn.linear_model import LinearRegression\n",
    "from sklearn.ensemble import RandomForestClassifier\n",
    "from sklearn.model_selection import cross_val_score, train_test_split, GridSearchCV\n",
    "from sklearn.preprocessing import PolynomialFeatures, StandardScaler\n",
    "\n",
    "from sklearn.svm import SVR"
   ]
  },
  {
   "cell_type": "code",
   "execution_count": 5,
   "metadata": {},
   "outputs": [
    {
     "data": {
      "text/plain": [
       "Index(['year', 'month', 'population', 'unemployment_rate',\n",
       "       'hourly_earnings_yoy', 'cpi_yoy', 'shelter_yoy', 'energy_yoy',\n",
       "       'medical_care_yoy', 'food_yoy', 'gasoline_yoy', 'imports_yoy',\n",
       "       'new_&_used_vehicles_yoy', 'all_less_food_&_shelter_yoy',\n",
       "       'total_personal_income', 'total_employee_compensation',\n",
       "       'wages_and_salaries_all', 'wages_salaries_private_employees',\n",
       "       'wages_salaries_government_employees',\n",
       "       'employer_contributions_for_employee_pension_and_insurance_funds',\n",
       "       'employer_contributions_for_government_social_insurance',\n",
       "       'rental_income_(capital_consumption_adjusted)',\n",
       "       'personal_dividend_income', 'personal_interest_income',\n",
       "       'total_gov_social_benefits', 'social_security', 'medicare', 'medicaid',\n",
       "       'unemployment_insurance', 'veterans'_benefits',\n",
       "       'total_disposible_personal_income_chained_2017',\n",
       "       'total_personal_savings',\n",
       "       'personal_saving_as_a_percentage_of_disposable_personal_income',\n",
       "       'disp_inc_per_capita_chained_2017', 'total_disposable_personal_income',\n",
       "       'disp_inc_per_capita_current_dollars', 'total_all_personal_outlays',\n",
       "       'personal_interest_payments', 'tax_other_to_government',\n",
       "       'tax_personal_current', 'tax_gov_social_insurance_domestic',\n",
       "       'tax_total_all_taxes', 'cc_rate_all_ns', 'mortgage_rate_30_yr',\n",
       "       'cc_bals_30d_due_percentage', 'cc_bals_90d_due_percentage',\n",
       "       'cc_balance_total_billions'],\n",
       "      dtype='object')"
      ]
     },
     "execution_count": 5,
     "metadata": {},
     "output_type": "execute_result"
    }
   ],
   "source": [
    "df = pd.read_csv('../data/all_monthly_data_clean.csv')\n",
    "df.columns"
   ]
  },
  {
   "cell_type": "markdown",
   "metadata": {},
   "source": [
    "## Modelling"
   ]
  },
  {
   "cell_type": "code",
   "execution_count": 23,
   "metadata": {},
   "outputs": [],
   "source": [
    "lr = LinearRegression()\n",
    "X = df.drop()\n",
    "y_saving_ratio = df['Personal saving as a percentage of disposable personal income']\n",
    "y_saving = df['Equals: Personal saving']\n",
    "y_disp_inc = df['Disposable personal income, current dollars']"
   ]
  },
  {
   "cell_type": "code",
   "execution_count": 24,
   "metadata": {},
   "outputs": [
    {
     "data": {
      "image/png": "[encoded data removed]",
      "text/plain": [
       "<Figure size 640x480 with 1 Axes>"
      ]
     },
     "metadata": {},
     "output_type": "display_data"
    }
   ],
   "source": [
    "X_train, X_test, y_train, y_test = train_test_split(X, y_saving_ratio, random_state=42, test_size=0.15)\n",
    "\n",
    "ss = StandardScaler()\n",
    "\n",
    "X_train = ss.fit_transform(X_train)\n",
    "X_test = ss.transform(X_test)\n",
    "\n",
    "lr.fit(X_train, y_train)\n",
    "y_pred = lr.predict(X_test)\n",
    "plt.scatter(y_test, y_pred)\n",
    "plt.xlabel('y_test')\n",
    "plt.ylabel('y_pred')\n",
    "plt.show()\n"
   ]
  },
  {
   "cell_type": "code",
   "execution_count": 27,
   "metadata": {},
   "outputs": [
    {
     "name": "stdout",
     "output_type": "stream",
     "text": [
      "Train cv: 0.972907802140693\n",
      "Train r2: 0.9845941777252735\n",
      "Test r2: 0.972560953086523\n"
     ]
    }
   ],
   "source": [
    "print(f\"Train cv: {cross_val_score(lr, X_train, y_train, cv = 10).mean()}\")\n",
    "print(f\"Train r2: {lr.score(X_train, y_train)}\")\n",
    "print(f\"Test r2: {lr.score(X_test, y_test)}\")"
   ]
  },
  {
   "cell_type": "code",
   "execution_count": 14,
   "metadata": {},
   "outputs": [
    {
     "name": "stdout",
     "output_type": "stream",
     "text": [
      "                                                     Coefficient\n",
      "Personal consumption expenditures                  -83855.370318\n",
      "Personal interest payments                          -1508.826692\n",
      "Personal current transfer payments                    829.791432\n",
      "To government                                       -1088.946846\n",
      "Population (midperiod, thousands)                       0.602639\n",
      "Veterans' benefits                                      0.511948\n",
      "Medicare                                                2.290880\n",
      "Medicaid                                               -0.765057\n",
      "Employer contributions for employee pension and...      0.476738\n",
      "Employer contributions for government social in...      0.554307\n",
      "Unemployment insurance                                 -0.144522\n",
      "Personal income receipts on assets                   4286.383621\n",
      "Personal interest income                            -1704.476171\n",
      "Personal dividend income                            -2680.510351\n",
      "Social security                                         0.000215\n",
      "Government social benefits to persons                   4.734337\n",
      "Compensation of employees                              13.039885\n",
      "Rental income of persons with capital consumpti...      1.412710\n",
      "Unemployment                                           -0.609654\n",
      "Hourly earnings_yoy                                    -0.174752\n",
      "Shelter_yoy                                             0.150015\n",
      "Energy_yoy                                              0.006763\n",
      "Medical Care_yoy                                        0.001545\n",
      "Food_yoy                                                0.066965\n",
      "Gasoline_yoy                                           -0.004015\n",
      "Imports_yoy                                             0.010737\n",
      "New & Used Vehicles_yoy                                 0.014578\n",
      "Population (midperiod, thousands)                       0.602639\n",
      "To the rest of the world (net)                      -1101.939049\n",
      "Less: Contributions for government social insur...     -2.239826\n",
      "Less: Personal current taxes                           -3.591135\n",
      "Less: Personal outlays                              86324.532248\n"
     ]
    }
   ],
   "source": [
    "coef_flat = lr.coef_.flatten() if lr.coef_.ndim > 1 else lr.coef_\n",
    "\n",
    "coef_df = pd.DataFrame(coef_flat, index=X.columns, columns=['Coefficient'])\n",
    "\n",
    "print(coef_df)"
   ]
  }
 ],
 "metadata": {
  "kernelspec": {
   "display_name": "base",
   "language": "python",
   "name": "python3"
  },
  "language_info": {
   "codemirror_mode": {
    "name": "ipython",
    "version": 3
   },
   "file_extension": ".py",
   "mimetype": "text/x-python",
   "name": "python",
   "nbconvert_exporter": "python",
   "pygments_lexer": "ipython3",
   "version": "3.11.5"
  }
 },
 "nbformat": 4,
 "nbformat_minor": 2
}
